{
  "nbformat": 4,
  "nbformat_minor": 0,
  "metadata": {
    "colab": {
      "name": "purchasing products",
      "provenance": [],
      "history_visible": true
    },
    "kernelspec": {
      "name": "python3",
      "display_name": "Python 3"
    },
    "language_info": {
      "name": "python"
    }
  },
  "cells": [
    {
      "cell_type": "markdown",
      "metadata": {
        "id": "ute5Q1KTIOF1"
      },
      "source": [
        "### Read inventory"
      ]
    },
    {
      "cell_type": "code",
      "metadata": {
        "id": "ZVNBpXqiaQBR"
      },
      "source": [
        "fd= open(\"record.json\",\"r\")\n",
        "r=fd.read()\n",
        "fd.close()"
      ],
      "execution_count": 10,
      "outputs": []
    },
    {
      "cell_type": "code",
      "metadata": {
        "id": "PN288xFCBSIk"
      },
      "source": [
        "!pip install simplejson\n",
        "\n"
      ],
      "execution_count": null,
      "outputs": []
    },
    {
      "cell_type": "code",
      "metadata": {
        "id": "3LnMalYmE5en"
      },
      "source": [
        "record=json.loads(r)\n"
      ],
      "execution_count": 22,
      "outputs": []
    },
    {
      "cell_type": "code",
      "metadata": {
        "colab": {
          "base_uri": "https://localhost:8080/"
        },
        "id": "jAgv8RQtE_9t",
        "outputId": "ff21f77a-793e-4a33-8275-1a4735aa390e"
      },
      "source": [
        "record\n",
        "{'1001':{'name':'choco cake','pr':100,'qn':34},\n",
        " '1002':{'name':'Milk cake','pr':800,'qn':100},\n",
        " '1003':{'name':'drink','pr':85,'qn':84},\n",
        " '1004':{'name':'candy','pr':5,'qn':1000},\n",
        " '1005':{'name':'Pen','pr':20,'qn':100}\n",
        " }"
      ],
      "execution_count": 23,
      "outputs": [
        {
          "output_type": "execute_result",
          "data": {
            "text/plain": [
              "{'1001': {'name': 'choco cake', 'pr': 100, 'qn': 34},\n",
              " '1002': {'name': 'Milk cake', 'pr': 800, 'qn': 100},\n",
              " '1003': {'name': 'drink', 'pr': 85, 'qn': 84},\n",
              " '1004': {'name': 'candy', 'pr': 5, 'qn': 1000},\n",
              " '1005': {'name': 'Pen', 'pr': 20, 'qn': 100}}"
            ]
          },
          "metadata": {},
          "execution_count": 23
        }
      ]
    },
    {
      "cell_type": "code",
      "metadata": {
        "colab": {
          "base_uri": "https://localhost:8080/"
        },
        "id": "38A_l77vHShN",
        "outputId": "0d8790a8-57b9-4f44-8a4f-2dd8b7d05cc2"
      },
      "source": [
        "record"
      ],
      "execution_count": 24,
      "outputs": [
        {
          "output_type": "execute_result",
          "data": {
            "text/plain": [
              "{'1001': {'name': 'Choco Cake', 'pr': 100, 'qn': 34},\n",
              " '1002': {'name': 'Milk Cake', 'pr': 800, 'qn': 100},\n",
              " '1003': {'name': 'Drink', 'pr': 85, 'qn': 100},\n",
              " '1004': {'name': 'Candy', 'pr': 5, 'qn': 1000},\n",
              " '1005': {'name': 'Pen', 'pr': 20, 'qn': 100},\n",
              " '1006': {'name': 'Phone', 'pr': 50000, 'qn': 10},\n",
              " '1007': {'name': 'Mic', 'pr': 1500, 'qn': 0},\n",
              " '1008': {'name': 'Case', 'pr': 599, 'qn': 5},\n",
              " '1009': {'name': 'Keyboard', 'pr': 1999, 'qn': 10}}"
            ]
          },
          "metadata": {},
          "execution_count": 24
        }
      ]
    },
    {
      "cell_type": "markdown",
      "metadata": {
        "id": "NipNs3yRJB4p"
      },
      "source": [
        "**Purchase**"
      ]
    },
    {
      "cell_type": "code",
      "metadata": {
        "colab": {
          "base_uri": "https://localhost:8080/"
        },
        "id": "sBSblevKJGOW",
        "outputId": "e4a524e3-1a4f-4d55-e3ac-34721a236a86"
      },
      "source": [
        "ui_prod=str(input(\"enter the product_Id:\"))\n",
        "ui_quant=int(input(\"enter the quantity:\"))\n",
        "print(\"product:\",record[ui_prod]['name'])\n",
        "print(\"price:\",record[ui_prod]['pr'])"
      ],
      "execution_count": 27,
      "outputs": [
        {
          "output_type": "stream",
          "name": "stdout",
          "text": [
            "enter the product_Id:1004\n",
            "enter the quantity:4\n",
            "product: Candy\n",
            "price: 5\n"
          ]
        }
      ]
    },
    {
      "cell_type": "markdown",
      "metadata": {
        "id": "uAAArszBKgmN"
      },
      "source": [
        "**Update Inventory after purchase**"
      ]
    },
    {
      "cell_type": "code",
      "metadata": {
        "id": "50_O3RfDKqou"
      },
      "source": [
        "\n",
        "fd=open(\"record.json\",'w')\n",
        "fd.close()"
      ],
      "execution_count": 31,
      "outputs": []
    },
    {
      "cell_type": "markdown",
      "metadata": {
        "id": "tFOgx4mrLHuA"
      },
      "source": [
        "**Sales JSON**"
      ]
    },
    {
      "cell_type": "code",
      "metadata": {
        "colab": {
          "base_uri": "https://localhost:8080/"
        },
        "id": "yB4tAR1ELNMK",
        "outputId": "dd082bc1-d6a5-4411-eca6-2a1ec13c3948"
      },
      "source": [
        "{'prod':ui_prod ,'qn':ui_quant}"
      ],
      "execution_count": 41,
      "outputs": [
        {
          "output_type": "execute_result",
          "data": {
            "text/plain": [
              "{'prod': '1004', 'qn': 4}"
            ]
          },
          "metadata": {},
          "execution_count": 41
        }
      ]
    },
    {
      "cell_type": "code",
      "metadata": {
        "id": "4S-Hfi7iMvex"
      },
      "source": [
        "sales={1:{'prod':ui_prod,'qn':ui_quant},\n",
        "       \n",
        "       }"
      ],
      "execution_count": 45,
      "outputs": []
    }
  ]
}